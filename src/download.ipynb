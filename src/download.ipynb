{
 "cells": [
  {
   "cell_type": "code",
   "execution_count": 11,
   "id": "5c9cbbd1",
   "metadata": {},
   "outputs": [],
   "source": [
    "from pyDataverse.api import NativeApi, DataAccessApi\n",
    "import zipfile\n",
    "import os"
   ]
  },
  {
   "cell_type": "code",
   "execution_count": 12,
   "id": "b65e860e",
   "metadata": {},
   "outputs": [],
   "source": [
    "base_url = 'https://dataverse.lib.virginia.edu/'\n",
    "api = NativeApi(base_url)\n",
    "data_api = DataAccessApi(base_url)"
   ]
  },
  {
   "cell_type": "code",
   "execution_count": 13,
   "id": "52cf36de",
   "metadata": {},
   "outputs": [],
   "source": [
    "cm4ai_beta_doi = \"doi:10.18130/V3/B35XWX\"\n",
    "cm4ai_beta_dataset = api.get_dataset(cm4ai_beta_doi)"
   ]
  },
  {
   "cell_type": "code",
   "execution_count": 14,
   "id": "790dc5b6",
   "metadata": {},
   "outputs": [],
   "source": [
    "files_list = cm4ai_beta_dataset.json()['data']['latestVersion']['files']\n",
    "if_label = \"Protein Localization Subcellular Images\""
   ]
  },
  {
   "cell_type": "code",
   "execution_count": 15,
   "id": "9d770550",
   "metadata": {},
   "outputs": [],
   "source": [
    "output_dir = \"../data/raw\"\n",
    "os.makedirs(output_dir, exist_ok=True)"
   ]
  },
  {
   "cell_type": "code",
   "execution_count": 16,
   "id": "22e5c9ee",
   "metadata": {},
   "outputs": [],
   "source": [
    "for file in files_list:\n",
    "    if file[\"directoryLabel\"] == if_label:\n",
    "        file_id = file[\"dataFile\"][\"id\"]\n",
    "        filename = file[\"dataFile\"][\"filename\"]\n",
    "        output_path = os.path.join(output_dir, filename)\n",
    "        \n",
    "        if not os.path.exists(output_path):\n",
    "            response = data_api.get_datafile(file_id, is_pid=False)\n",
    "            \n",
    "            with open(output_path, \"wb\") as f:\n",
    "                f.write(response.content)"
   ]
  },
  {
   "cell_type": "code",
   "execution_count": 17,
   "id": "ace7b866",
   "metadata": {},
   "outputs": [],
   "source": [
    "for filename in os.listdir(output_dir):\n",
    "    if filename.endswith('.zip'):\n",
    "        zip_path = os.path.join(output_dir, filename)\n",
    "        with zipfile.ZipFile(zip_path, 'r') as zip_ref:\n",
    "            zip_ref.extractall(output_dir)\n",
    "        os.remove(zip_path)"
   ]
  },
  {
   "cell_type": "code",
   "execution_count": null,
   "id": "daa2cffa",
   "metadata": {},
   "outputs": [],
   "source": []
  }
 ],
 "metadata": {
  "kernelspec": {
   "display_name": "cm4ai-if",
   "language": "python",
   "name": "python3"
  },
  "language_info": {
   "codemirror_mode": {
    "name": "ipython",
    "version": 3
   },
   "file_extension": ".py",
   "mimetype": "text/x-python",
   "name": "python",
   "nbconvert_exporter": "python",
   "pygments_lexer": "ipython3",
   "version": "3.10.16"
  }
 },
 "nbformat": 4,
 "nbformat_minor": 5
}
